{
  "cells": [
    {
      "cell_type": "code",
      "execution_count": null,
      "id": "16581ab4",
      "metadata": {
        "id": "16581ab4"
      },
      "outputs": [],
      "source": [
        "import sqlite3 as sql\n",
        "import pandas as pd\n",
        "\n",
        "import plotly\n",
        "import plotly.express as px\n",
        "import plotly.io as pio\n",
        "import plotly.graph_objects as gro\n",
        "from plotly.subplots import make_subplots\n"
      ]
    },
    {
      "cell_type": "markdown",
      "id": "922d4c7b",
      "metadata": {
        "id": "922d4c7b"
      },
      "source": [
        "#### Delcaring Globals"
      ]
    },
    {
      "cell_type": "code",
      "execution_count": null,
      "id": "5f179604",
      "metadata": {
        "id": "5f179604"
      },
      "outputs": [],
      "source": [
        "pio.renderers.default = 'browser'\n",
        "\n",
        "CountryList = [];\n",
        "InternetAccessList = [];\n",
        "LifeSatisfactionList = [];\n",
        "YearList = [];"
      ]
    },
    {
      "cell_type": "markdown",
      "id": "d68839ec",
      "metadata": {
        "id": "d68839ec"
      },
      "source": [
        "Setting up Database Connector and Querying All Availible Countries"
      ]
    },
    {
      "cell_type": "code",
      "execution_count": null,
      "id": "9199b94c",
      "metadata": {
        "id": "9199b94c"
      },
      "outputs": [],
      "source": [
        "Connection = sql.connect('../Raw Data/HOORAH.db');\n",
        "\n",
        "Query = 'SELECT * FROM Countries';\n",
        "Data = pd.read_sql_query(Query, Connection);\n",
        "TotalCountryList = Data['Country Name'].to_numpy();\n",
        "\n",
        "for i in range(len(TotalCountryList)):\n",
        "    Query = f'SELECT * FROM \"{TotalCountryList[i]}\"';\n",
        "    CountryData = pd.read_sql_query(Query, Connection);\n",
        "\n",
        "    for j in range(len(CountryData['Year'])):\n",
        "        if(CountryData['Internet Access'][j] and CountryData['Satisfaction'][j]):\n",
        "            CountryList.append(TotalCountryList[i]);\n",
        "            InternetAccessList.append(CountryData['Internet Access'][j]);\n",
        "            LifeSatisfactionList.append(CountryData['Satisfaction'][j]);\n",
        "            YearList.append(j + 2014);"
      ]
    },
    {
      "cell_type": "markdown",
      "id": "ca435a6f",
      "metadata": {
        "id": "ca435a6f"
      },
      "source": [
        "Creating a joint Pandas Dataframe and Sorting Years in ascending order"
      ]
    },
    {
      "cell_type": "code",
      "execution_count": null,
      "id": "c4f0c070",
      "metadata": {
        "id": "c4f0c070"
      },
      "outputs": [],
      "source": [
        "Data = pd.DataFrame({'Country' : CountryList, 'Year' : YearList, 'Internet Access' : InternetAccessList,\n",
        "                     'Life Satisfaction' : LifeSatisfactionList});\n",
        "Data = Data.sort_values(by=['Year']);"
      ]
    },
    {
      "cell_type": "markdown",
      "id": "aa2b7e29",
      "metadata": {
        "id": "aa2b7e29"
      },
      "source": [
        "Creating our Graph subplots and adding a choropleth and scatterplot"
      ]
    },
    {
      "cell_type": "code",
      "execution_count": null,
      "id": "42788a42",
      "metadata": {
        "scrolled": true,
        "id": "42788a42",
        "outputId": "339f2584-e144-44a1-81c4-07dd736d3953"
      },
      "outputs": [
        {
          "name": "stdout",
          "output_type": "stream",
          "text": [
            "             Country  Year  Internet Access  Life Satisfaction\n",
            "0            Albania  2014            90.87                5.8\n",
            "36            Greece  2014            85.07                6.8\n",
            "40             Spain  2014            95.92                7.3\n",
            "44           Finland  2014            96.56                8.0\n",
            "48            France  2014            93.33                6.7\n",
            "52           Croatia  2014            86.09                6.9\n",
            "56           Hungary  2014            90.78                6.5\n",
            "60           Ireland  2014            97.50                7.2\n",
            "128   United Kingdom  2014            94.85                7.6\n",
            "65             Italy  2014            90.49                7.3\n",
            "69         Lithuania  2014            86.55                6.7\n",
            "73        Luxembourg  2014            99.18                7.5\n",
            "77            Latvia  2014            91.15                6.5\n",
            "81        Montenegro  2014            80.76                6.5\n",
            "84   North Macedonia  2014            79.32                6.1\n",
            "85             Malta  2014            90.54                7.2\n",
            "89       Netherlands  2014            98.56                7.7\n",
            "93            Norway  2014            98.93                7.6\n",
            "97            Poland  2014            92.42                7.5\n",
            "101         Portugal  2014            87.34                NaN\n",
            "105          Romania  2014            88.74                7.8\n",
            "109           Serbia  2014            81.51                6.0\n",
            "112           Sweden  2014            93.23                7.6\n",
            "116         Slovenia  2014            93.04                7.5\n",
            "120         Slovakia  2014            89.96                7.0\n",
            "124          Türkiye  2014            91.98                5.7\n",
            "32           Estonia  2014            91.82                7.1\n",
            "28           Denmark  2014            96.14                7.5\n",
            "64           Iceland  2014            99.18                8.1\n",
            "129          Kosovo*  2014            93.20                6.1\n",
            "20           Czechia  2014            89.31                7.2\n",
            "16            Cyprus  2014            93.41                6.8\n",
            "2            Austria  2014            95.00                8.0\n",
            "14       Switzerland  2014            98.67                7.8\n",
            "6            Belgium  2014            91.97                7.5\n",
            "24           Germany  2014            91.88                NaN\n",
            "10          Bulgaria  2014            83.53                5.6\n",
            "         Country  Year  Internet Access  Life Satisfaction\n",
            "66         Italy  2015            91.45                7.3\n",
            "70     Lithuania  2015            87.71                6.8\n",
            "15   Switzerland  2015            99.66                7.8\n",
            "74    Luxembourg  2015            97.64                7.2\n",
            "78        Latvia  2015            91.39                6.6\n",
            "82    Montenegro  2015            80.96                5.8\n",
            "11      Bulgaria  2015            87.31                5.6\n",
            "86         Malta  2015            93.39                7.6\n",
            "94        Norway  2015            99.01                7.8\n",
            "17        Cyprus  2015            94.00                7.1\n",
            "98        Poland  2015            93.33                7.6\n",
            "7        Belgium  2015            94.44                7.5\n",
            "102     Portugal  2015            88.15                7.2\n",
            "106      Romania  2015            89.41                7.8\n",
            "110       Serbia  2015            83.24                6.2\n",
            "113       Sweden  2015            94.33                7.4\n",
            "3        Austria  2015            93.15                7.9\n",
            "117     Slovenia  2015            92.60                7.4\n",
            "121     Slovakia  2015            90.65                6.9\n",
            "1        Albania  2015            83.64                5.7\n",
            "125      Türkiye  2015            94.15                5.5\n",
            "90   Netherlands  2015            98.28                7.7\n",
            "61       Ireland  2015              NaN                7.4\n",
            "29       Denmark  2015            95.16                7.6\n",
            "21       Czechia  2015            91.48                7.3\n",
            "49        France  2015            92.25                6.9\n",
            "57       Hungary  2015            91.44                6.8\n",
            "33       Estonia  2015            92.41                7.0\n",
            "41         Spain  2015            96.08                7.2\n",
            "25       Germany  2015            91.41                6.5\n",
            "53       Croatia  2015            85.52                6.9\n",
            "45       Finland  2015            97.59                7.8\n",
            "37        Greece  2015            85.49                6.8\n",
            "         Country  Year  Internet Access  Life Satisfaction\n",
            "91   Netherlands  2016            98.86                7.6\n",
            "8        Belgium  2016            94.48                7.6\n",
            "99        Poland  2016            93.30                7.5\n",
            "42         Spain  2016            96.45                7.3\n",
            "103     Portugal  2016            89.01                7.2\n",
            "38        Greece  2016            86.90                6.9\n",
            "107      Romania  2016            92.00                7.8\n",
            "95        Norway  2016            99.01                7.7\n",
            "4        Austria  2016            94.98                7.7\n",
            "114       Sweden  2016            94.87                7.4\n",
            "34       Estonia  2016            93.22                7.1\n",
            "118     Slovenia  2016            93.72                7.6\n",
            "26       Germany  2016            91.66                6.9\n",
            "122     Slovakia  2016            90.60                7.2\n",
            "30       Denmark  2016            96.09                7.4\n",
            "126      Türkiye  2016            95.54                5.8\n",
            "111       Serbia  2016            72.91                5.7\n",
            "46       Finland  2016            96.78                7.6\n",
            "79        Latvia  2016            93.07                6.7\n",
            "87         Malta  2016            93.54                7.4\n",
            "71     Lithuania  2016            88.59                6.8\n",
            "54       Croatia  2016            89.56                7.1\n",
            "50        France  2016            93.34                7.1\n",
            "67         Italy  2016            91.89                7.4\n",
            "58       Hungary  2016            92.73                7.2\n",
            "12      Bulgaria  2016            88.50                5.9\n",
            "83    Montenegro  2016            72.18                6.6\n",
            "62       Ireland  2016            93.92                7.6\n",
            "22       Czechia  2016            92.80                7.2\n",
            "18        Cyprus  2016            92.30                7.5\n",
            "75    Luxembourg  2016            99.06                7.3\n",
            "         Country  Year  Internet Access  Life Satisfaction\n",
            "123     Slovakia  2017            80.84                7.0\n",
            "31       Denmark  2017            92.66                7.8\n",
            "72     Lithuania  2017            78.38                6.0\n",
            "63       Ireland  2017            89.11                8.0\n",
            "119     Slovenia  2017            86.68                7.1\n",
            "68         Italy  2017            84.34                7.3\n",
            "55       Croatia  2017            81.52                6.5\n",
            "35       Estonia  2017            90.47                6.8\n",
            "115       Sweden  2017            93.42                7.8\n",
            "127      Türkiye  2017            83.79                5.9\n",
            "5        Austria  2017            88.78                8.0\n",
            "88         Malta  2017            84.14                7.7\n",
            "47       Finland  2017            94.28                8.1\n",
            "92   Netherlands  2017            98.00                7.7\n",
            "9        Belgium  2017            87.27                7.5\n",
            "23       Czechia  2017            86.36                7.3\n",
            "19        Cyprus  2017            86.17                7.1\n",
            "96        Norway  2017            96.01                8.0\n",
            "43         Spain  2017            86.36                7.5\n",
            "100       Poland  2017            84.19                7.7\n",
            "13      Bulgaria  2017            72.13                5.5\n",
            "80        Latvia  2017            81.58                6.5\n",
            "27       Germany  2017            94.39                7.3\n",
            "104     Portugal  2017            79.43                7.3\n",
            "39        Greece  2017            76.49                6.5\n",
            "51        France  2017            88.56                7.2\n",
            "108      Romania  2017            80.89                7.5\n",
            "76    Luxembourg  2017            92.99                7.6\n",
            "59       Hungary  2017            83.31                6.5\n"
          ]
        }
      ],
      "source": [
        "Figure = make_subplots(rows=1, cols=2, specs=[[{'type' : 'choropleth'}, {'type' : 'scatter'}]]);\n",
        "\n",
        "for i in range(4):\n",
        "    tempData = Data[Data.Year == (2014 + i)];\n",
        "    print(tempData);\n",
        "    isVisible = True;\n",
        "\n",
        "    if(i):\n",
        "        isVisible = False;\n",
        "\n",
        "    Figure.add_choropleth(z=tempData['Internet Access'].to_numpy(), name='Internet Access', colorscale='viridis',\n",
        "                          colorbar_x=0, colorbar_title_text=\"Life Satisfaction (%)\", colorbar_title_side= \"right\", colorbar_title_font_size=30,\n",
        "                          zmax=100, zmin=70, locationmode='country names', locations=tempData['Country'].to_numpy(),\n",
        "                          visible=isVisible, row=1, col=1);\n",
        "    Figure.update_geos(scope = \"europe\")\n",
        "    #Figure.add_choropleth(z=tempData['Life Satisfaction'].to_numpy(), name='Life Satisfaction', locationmode='country names', locations=tempData['Country'].to_numpy(), visible=isVisible, row=1, col=2);\n",
        "\n",
        "    Figure.add_scatter(x=tempData['Internet Access'], y=tempData['Life Satisfaction'], name='Internet Access vs Life Satisfaction',\n",
        "                       visible=isVisible, mode='markers', row=1, col=2);\n",
        "    Figure.update_xaxes(range=[70,100])\n",
        "    Figure.update_yaxes(range=[4,10])"
      ]
    },
    {
      "cell_type": "markdown",
      "id": "edef1460",
      "metadata": {
        "id": "edef1460"
      },
      "source": [
        "makes final graph with time slider"
      ]
    },
    {
      "cell_type": "code",
      "execution_count": null,
      "id": "2bc8162b",
      "metadata": {
        "id": "2bc8162b"
      },
      "outputs": [],
      "source": [
        "steps = []\n",
        "for i in range(4):\n",
        "    step = dict(\n",
        "        method = 'restyle',\n",
        "        args = ['visible', [False] * len(Figure.data)],\n",
        "        label = f'Year {2014 + i}'\n",
        "    )\n",
        "\n",
        "    step['args'][1][i * 2] = True\n",
        "    step['args'][1][i * 2 + 1] = True\n",
        "    steps.append(step)\n",
        "\n",
        "sliders = [dict(\n",
        "    steps = steps,\n",
        ")]\n",
        "\n",
        "Figure.update_layout(\n",
        "    xaxis_title = 'Internet Access',\n",
        "    xaxis_title_font_size= 20,\n",
        "    yaxis_title = 'Life Satisfaction',\n",
        "    yaxis_title_font_size= 20,\n",
        "    )\n",
        "\n",
        "Figure.layout.sliders = sliders;\n",
        "Figure.show();"
      ]
    },
    {
      "cell_type": "code",
      "execution_count": null,
      "id": "cc62d025",
      "metadata": {
        "id": "cc62d025"
      },
      "outputs": [],
      "source": []
    },
    {
      "cell_type": "code",
      "execution_count": null,
      "id": "e96e256d",
      "metadata": {
        "id": "e96e256d"
      },
      "outputs": [],
      "source": []
    }
  ],
  "metadata": {
    "kernelspec": {
      "display_name": "Python 3 (ipykernel)",
      "language": "python",
      "name": "python3"
    },
    "language_info": {
      "codemirror_mode": {
        "name": "ipython",
        "version": 3
      },
      "file_extension": ".py",
      "mimetype": "text/x-python",
      "name": "python",
      "nbconvert_exporter": "python",
      "pygments_lexer": "ipython3",
      "version": "3.11.5"
    },
    "colab": {
      "provenance": []
    }
  },
  "nbformat": 4,
  "nbformat_minor": 5
}