{
  "cells": [
    {
      "cell_type": "code",
      "execution_count": null,
      "id": "49079366",
      "metadata": {
        "id": "49079366"
      },
      "outputs": [],
      "source": [
        "import pandas as pd\n",
        "import matplotlib.pyplot as plt\n",
        "import numpy as np\n",
        "import sqlite3 as sql"
      ]
    },
    {
      "cell_type": "markdown",
      "id": "9004af83",
      "metadata": {
        "id": "9004af83"
      },
      "source": [
        "#### Getting all of the European Countries That are Common in both Datasets"
      ]
    },
    {
      "cell_type": "code",
      "execution_count": null,
      "id": "f25da68d",
      "metadata": {
        "id": "f25da68d"
      },
      "outputs": [],
      "source": [
        "def getAllEuropeanCountries(LifeData, InternetData, CensusData):\n",
        "    CountryArr = [];\n",
        "\n",
        "    tempDF = LifeData.merge(InternetData, how='inner', on='geo');\n",
        "    tempDF = tempDF.merge(CensusData, how='inner', on='geo');\n",
        "    tempDF = tempDF.drop_duplicates(subset=['geo'], keep='first');\n",
        "    CountryArr = tempDF['geo'].to_numpy();\n",
        "\n",
        "    for i in range(len(CountryArr) - 1):\n",
        "        if(CountryArr[i] == 'European Union - 27 countries (from 2020)'):\n",
        "            CountryArr = np.delete(CountryArr, i);\n",
        "\n",
        "    return CountryArr;"
      ]
    },
    {
      "cell_type": "markdown",
      "id": "9caf62e1",
      "metadata": {
        "id": "9caf62e1"
      },
      "source": [
        "#### Getting Satisfaction Rating for Each Country Listed in the Above Function"
      ]
    },
    {
      "cell_type": "code",
      "execution_count": null,
      "id": "b6f714b1",
      "metadata": {
        "id": "b6f714b1"
      },
      "outputs": [],
      "source": [
        "# Gets the Average Satisfaction in Each Country Betwen 2024-2014.\n",
        "def getSatisfactionData(Data, CountryList):\n",
        "    Countries = [];\n",
        "\n",
        "    for i in range(len(CountryList)):\n",
        "        Countries.append([0] * (2024 - 2014));\n",
        "\n",
        "    for i in range(len(Data)):\n",
        "\n",
        "        for j in range(len(CountryList)):\n",
        "            if(Data['geo'][i] == CountryList[j] and Data['TIME_PERIOD'][i] >= 2014 and Data['isced11'][i] == 'Upper secondary and post-secondary non-tertiary education (levels 3 and 4)' and Data['life_sat'][i] == 'Life as a whole' and Data['age'][i] == '16 years or over'):\n",
        "                Index = Data['TIME_PERIOD'][i] - 2019;\n",
        "                Countries[j][Index] = Data['OBS_VALUE'][i];\n",
        "\n",
        "    return Countries;"
      ]
    },
    {
      "cell_type": "markdown",
      "id": "dfcfac67",
      "metadata": {
        "id": "dfcfac67"
      },
      "source": [
        "#### Getting Internet Access in all Common Countries"
      ]
    },
    {
      "cell_type": "code",
      "execution_count": null,
      "id": "9c871a77",
      "metadata": {
        "id": "9c871a77"
      },
      "outputs": [],
      "source": [
        "# Gets the Internet Access in Each Country Between 2024-2014\n",
        "def getInternetAccessData(Data, CountryList):\n",
        "    Countries = [];\n",
        "\n",
        "    for i in range(len(CountryList)):\n",
        "        Countries.append([0] * (2024 - 2014));\n",
        "\n",
        "    for i in range(len(Data)):\n",
        "        for j in range(len(CountryList)):\n",
        "            if(Data['geo'][i] == CountryList[j] and Data['TIME_PERIOD'][i] >= 2014):\n",
        "                Index = Data['TIME_PERIOD'][i] - 2019;\n",
        "                Countries[j][Index] = Data['OBS_VALUE'][i];\n",
        "\n",
        "    return Countries;"
      ]
    },
    {
      "cell_type": "code",
      "execution_count": null,
      "id": "9469d283",
      "metadata": {
        "id": "9469d283"
      },
      "outputs": [],
      "source": [
        "def getCensusData(Data, CountryList):\n",
        "    Countries = [];\n",
        "\n",
        "    for i in range(len(CountryList)):\n",
        "        Countries.append([0] * (2024 - 2014));\n",
        "\n",
        "    for i in range(len(Data)):\n",
        "        if Data['sex'][i] == 'Total':\n",
        "            for j in range(len(CountryList)):\n",
        "                if(Data['geo'][i] == CountryList[j] and Data['TIME_PERIOD'][i] >= 2014):\n",
        "                    Index = Data['TIME_PERIOD'][i] - 2019;\n",
        "                    Countries[j][Index] = Data['OBS_VALUE'][i];\n",
        "    return Countries;\n"
      ]
    },
    {
      "cell_type": "markdown",
      "id": "0f57ff20",
      "metadata": {
        "id": "0f57ff20"
      },
      "source": [
        "#### We first Read our Datasets in as CSV and Parse them Pandas Dataframe\n",
        "#### We then create a Table listing all Countries\n",
        "#### And then create a Table for each Country, inserting the data into that table"
      ]
    },
    {
      "cell_type": "code",
      "execution_count": null,
      "id": "21fd9fa4",
      "metadata": {
        "id": "21fd9fa4"
      },
      "outputs": [],
      "source": [
        "def main():\n",
        "    #Our Datasets.\n",
        "    LifeSatisfactionData = pd.read_csv('../Raw Data/Overall life satisfaction by sex, age and educational attainment.csv');\n",
        "    InternetData = pd.read_csv('../Raw Data/Households - level of internet access.csv');\n",
        "    CensusData = pd.read_csv('../Raw Data/Census_2021.csv')\n",
        "\n",
        "    CountryList = getAllEuropeanCountries(LifeSatisfactionData, InternetData, CensusData);\n",
        "\n",
        "    #Set up SQL Connection.\n",
        "    Connection = sql.connect('../Raw Data/HOORAH.db');\n",
        "\n",
        "    #We make a Table for all Included Countries.\n",
        "    DF = pd.DataFrame({'Country Name' : CountryList, });\n",
        "    DF.to_sql('Countries', Connection, if_exists='replace');\n",
        "\n",
        "    #Parsing our Original Dataset to get what we want.\n",
        "    ParsedSatisfactionData = getSatisfactionData(LifeSatisfactionData, CountryList);\n",
        "    ParsedInternetAccessData = getInternetAccessData(InternetData, CountryList)\n",
        "    ParsedCensusData = getCensusData(CensusData, CountryList)\n",
        "    YearRange = np.arange(2014, 2024, 1);\n",
        "\n",
        "    #Formatting a Pandas Dataframe Object.\n",
        "    Format = ['Year', 'Satisfaction', 'Internet Access', 'Population'];\n",
        "\n",
        "    for i in range(len(CountryList)):\n",
        "        DataframeData  = [];\n",
        "\n",
        "        for j in range(len(ParsedSatisfactionData[i])):\n",
        "            if(ParsedSatisfactionData[i][j] and ParsedInternetAccessData[i][j]):\n",
        "                DataframeData.append(np.array([int(YearRange[j]), ParsedSatisfactionData[i][j], ParsedInternetAccessData[i][j], ParsedCensusData[i][j]]));\n",
        "\n",
        "        #Send Country Data to it's own table hehehehe\n",
        "        PDF = pd.DataFrame(data=DataframeData, columns=Format);\n",
        "        PDF.to_sql(CountryList[i], Connection, if_exists='replace');\n",
        "\n",
        "    #Close Connection.\n",
        "    Connection.close();\n"
      ]
    },
    {
      "cell_type": "markdown",
      "id": "5bc15e08",
      "metadata": {
        "id": "5bc15e08"
      },
      "source": [
        "#### 8)"
      ]
    },
    {
      "cell_type": "code",
      "execution_count": null,
      "id": "0849a854",
      "metadata": {
        "id": "0849a854"
      },
      "outputs": [],
      "source": [
        "#Call da main function\n",
        "main();"
      ]
    },
    {
      "cell_type": "code",
      "execution_count": null,
      "id": "32cef477",
      "metadata": {
        "id": "32cef477"
      },
      "outputs": [],
      "source": []
    }
  ],
  "metadata": {
    "kernelspec": {
      "display_name": "Python 3 (ipykernel)",
      "language": "python",
      "name": "python3"
    },
    "language_info": {
      "codemirror_mode": {
        "name": "ipython",
        "version": 3
      },
      "file_extension": ".py",
      "mimetype": "text/x-python",
      "name": "python",
      "nbconvert_exporter": "python",
      "pygments_lexer": "ipython3",
      "version": "3.11.5"
    },
    "colab": {
      "provenance": []
    }
  },
  "nbformat": 4,
  "nbformat_minor": 5
}